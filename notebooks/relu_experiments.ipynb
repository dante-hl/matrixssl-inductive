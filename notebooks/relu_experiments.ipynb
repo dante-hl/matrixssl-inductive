{
 "cells": [
  {
   "cell_type": "code",
   "execution_count": 1,
   "metadata": {},
   "outputs": [
    {
     "name": "stdout",
     "output_type": "stream",
     "text": [
      "/Users/admin/Documents/Research/SSL/matrixssl-inductive/notebooks\n"
     ]
    }
   ],
   "source": [
    "!pwd"
   ]
  },
  {
   "cell_type": "code",
   "execution_count": 2,
   "metadata": {},
   "outputs": [],
   "source": [
    "# imports\n",
    "import sys\n",
    "import os\n",
    "\n",
    "SCRIPT_DIR = os.path.dirname(os.path.abspath(''))\n",
    "sys.path.append(SCRIPT_DIR)\n",
    "\n",
    "import torch\n",
    "import numpy as np\n",
    "import matplotlib.pyplot as plt\n",
    "from torch.distributions import MultivariateNormal\n",
    "\n",
    "from utils import show_weights, plot_metrics, plot_embeddings, generate_aug_from_bool_aug, fit_classifiers, evaluate_classifiers, evaluate_normal_downstream, get_feature_downstream_scores\n",
    "from data.loader import generate_cube_augs\n",
    "from IPython.display import clear_output\n",
    "\n",
    "\n",
    "os.chdir('..')"
   ]
  },
  {
   "cell_type": "code",
   "execution_count": 3,
   "metadata": {},
   "outputs": [
    {
     "name": "stdout",
     "output_type": "stream",
     "text": [
      "/Users/admin/Documents/Research/SSL/matrixssl-inductive\n"
     ]
    }
   ],
   "source": [
    "!pwd"
   ]
  },
  {
   "cell_type": "code",
   "execution_count": 4,
   "metadata": {},
   "outputs": [
    {
     "data": {
      "text/plain": [
       "collections.OrderedDict"
      ]
     },
     "execution_count": 4,
     "metadata": {},
     "output_type": "execute_result"
    }
   ],
   "source": [
    "rd = torch.load(os.path.join(\"./outputs/normal/relu/spectral/spectral_relu_sgd_emb_dim=5_lr=0.0003_sched=step_run1\", 'run_dict'))\n",
    "type(rd['model_weights'])"
   ]
  },
  {
   "cell_type": "code",
   "execution_count": 5,
   "metadata": {},
   "outputs": [
    {
     "data": {
      "image/png": "[encoded data removed]",
      "text/plain": [
       "<Figure size 750x250 with 4 Axes>"
      ]
     },
     "metadata": {},
     "output_type": "display_data"
    },
    {
     "data": {
      "text/plain": [
       "array([[0.50389999, 0.50629997, 0.9849    , 0.94129997, 0.6627    ],\n",
       "       [0.509     , 0.51169997, 0.4914    , 0.91960001, 0.99489999],\n",
       "       [0.62720001, 0.50389999, 0.52509999, 0.99510002, 0.9447    ]])"
      ]
     },
     "execution_count": 5,
     "metadata": {},
     "output_type": "execute_result"
    }
   ],
   "source": [
    "dirs = \"./outputs/normal/relu/spectral\"\n",
    "score_arr = get_feature_downstream_scores(dirs)\n",
    "clear_output()\n",
    "show_weights(dirs, plot_weights=True, subtitle=True, title=True)\n",
    "score_arr"
   ]
  },
  {
   "cell_type": "code",
   "execution_count": 6,
   "metadata": {},
   "outputs": [],
   "source": [
    "rd = torch.load(os.path.join(\"./outputs/normal/relu/mce_runs/mssla_relu_sgd_emb_dim=5_lr=0.0003_sched=step_loss_type=mce_run1\", \"run_dict\"))"
   ]
  },
  {
   "cell_type": "code",
   "execution_count": 8,
   "metadata": {},
   "outputs": [
    {
     "data": {
      "text/plain": [
       "OrderedDict([('0.weight',\n",
       "              tensor([[-0.0387,  0.2894, -0.4339,  0.1813, -0.1350, -0.4887,  0.0314, -0.1012,\n",
       "                       -0.1794, -0.1857, -0.0049,  0.0034,  0.0280,  0.0083,  0.0160,  0.0246,\n",
       "                       -0.0104, -0.0309,  0.0094,  0.0436,  0.0069, -0.0134, -0.0056,  0.0227,\n",
       "                        0.0298],\n",
       "                      [ 0.0743, -0.0009,  0.0840,  0.0173,  0.0799,  0.0661,  0.0055,  0.0451,\n",
       "                        0.0680,  0.0117, -0.0133,  0.0289, -0.0681, -0.0259,  0.0758,  0.0795,\n",
       "                       -0.0581, -0.0781, -0.0700,  0.0261,  0.0773,  0.0351,  0.0537, -0.0137,\n",
       "                       -0.0175],\n",
       "                      [-0.0128, -0.1855,  0.3010, -0.0314, -0.0972,  0.0615, -0.0758, -0.0039,\n",
       "                        0.1436, -0.0280, -0.0996,  0.0167,  0.0945,  0.0383,  0.1020,  0.0745,\n",
       "                        0.0725, -0.0728, -0.1168,  0.0534,  0.0025, -0.1232, -0.0688,  0.1291,\n",
       "                        0.0693],\n",
       "                      [-0.0221,  0.1260, -0.1771,  0.0829, -0.0644, -0.0012, -0.0092, -0.0012,\n",
       "                        0.0186, -0.0043, -0.0126,  0.0026,  0.0159,  0.0054,  0.0150,  0.0077,\n",
       "                        0.0174, -0.0037, -0.0188,  0.0053,  0.0032, -0.0175, -0.0112,  0.0186,\n",
       "                        0.0096],\n",
       "                      [ 0.0041, -0.0468,  0.0175,  0.1099,  0.0123, -0.2369,  0.0120,  0.0798,\n",
       "                       -0.0458,  0.0161,  0.1333, -0.0391,  0.1548,  0.0646, -0.1214, -0.0432,\n",
       "                        0.0154, -0.0402,  0.1676,  0.1614,  0.1660,  0.1146,  0.0672, -0.0608,\n",
       "                        0.0642]])),\n",
       "             ('0.bias',\n",
       "              tensor([ 0.4443, -0.4003,  0.3397,  0.3613, -0.1296]))])"
      ]
     },
     "execution_count": 8,
     "metadata": {},
     "output_type": "execute_result"
    }
   ],
   "source": [
    "rd['model_weights']"
   ]
  },
  {
   "cell_type": "code",
   "execution_count": 5,
   "metadata": {},
   "outputs": [
    {
     "name": "stdout",
     "output_type": "stream",
     "text": [
      "Feature 1\n"
     ]
    },
    {
     "ename": "KeyError",
     "evalue": "'weight'",
     "output_type": "error",
     "traceback": [
      "\u001b[0;31m---------------------------------------------------------------------------\u001b[0m",
      "\u001b[0;31mKeyError\u001b[0m                                  Traceback (most recent call last)",
      "Cell \u001b[0;32mIn[5], line 6\u001b[0m\n\u001b[1;32m      1\u001b[0m dirs \u001b[38;5;241m=\u001b[39m [\n\u001b[1;32m      2\u001b[0m     \u001b[38;5;124m\"\u001b[39m\u001b[38;5;124m./outputs/normal/relu/mce_runs/mssla_relu_sgd_emb_dim=5_lr=0.0003_sched=step_loss_type=mce_run1\u001b[39m\u001b[38;5;124m\"\u001b[39m,\n\u001b[1;32m      3\u001b[0m     \u001b[38;5;124m\"\u001b[39m\u001b[38;5;124m./outputs/normal/relu/mce_runs/mssla_relu_sgd_emb_dim=5_lr=0.0003_sched=step_loss_type=mce_run2\u001b[39m\u001b[38;5;124m\"\u001b[39m,\n\u001b[1;32m      4\u001b[0m     \u001b[38;5;124m\"\u001b[39m\u001b[38;5;124m./outputs/normal/relu/mce_runs/mssla_relu_sgd_emb_dim=5_lr=0.0003_sched=step_loss_type=mce_run3\u001b[39m\u001b[38;5;124m\"\u001b[39m,\n\u001b[1;32m      5\u001b[0m ]\n\u001b[0;32m----> 6\u001b[0m score_arr \u001b[38;5;241m=\u001b[39m \u001b[43mget_feature_downstream_scores\u001b[49m\u001b[43m(\u001b[49m\u001b[43mdirs\u001b[49m\u001b[43m)\u001b[49m\n\u001b[1;32m      7\u001b[0m clear_output()\n\u001b[1;32m      8\u001b[0m show_weights(dirs, plot_weights\u001b[38;5;241m=\u001b[39m\u001b[38;5;28;01mTrue\u001b[39;00m, subtitle\u001b[38;5;241m=\u001b[39m\u001b[38;5;28;01mTrue\u001b[39;00m, title\u001b[38;5;241m=\u001b[39m\u001b[38;5;28;01mTrue\u001b[39;00m)\n",
      "File \u001b[0;32m~/Documents/Research/SSL/matrixssl-inductive/utils/evaluations.py:167\u001b[0m, in \u001b[0;36mget_feature_downstream_scores\u001b[0;34m(dirs, plot_train, print_stats)\u001b[0m\n\u001b[1;32m    165\u001b[0m \u001b[38;5;28;01mfor\u001b[39;00m i \u001b[38;5;129;01min\u001b[39;00m \u001b[38;5;28mrange\u001b[39m(num_feats):\n\u001b[1;32m    166\u001b[0m     \u001b[38;5;28mprint\u001b[39m(\u001b[38;5;124mf\u001b[39m\u001b[38;5;124m\"\u001b[39m\u001b[38;5;124mFeature \u001b[39m\u001b[38;5;132;01m{\u001b[39;00mi\u001b[38;5;241m+\u001b[39m\u001b[38;5;241m1\u001b[39m\u001b[38;5;132;01m}\u001b[39;00m\u001b[38;5;124m\"\u001b[39m)\n\u001b[0;32m--> 167\u001b[0m     test_scores, _ \u001b[38;5;241m=\u001b[39m \u001b[43mevaluate_normal_downstream\u001b[49m\u001b[43m(\u001b[49m\u001b[43mdirs\u001b[49m\u001b[43m,\u001b[49m\u001b[43m \u001b[49m\u001b[43mn_val\u001b[49m\u001b[38;5;241;43m=\u001b[39;49m\u001b[38;5;241;43m10000\u001b[39;49m\u001b[43m,\u001b[49m\u001b[43m \u001b[49m\u001b[43mn_test\u001b[49m\u001b[38;5;241;43m=\u001b[39;49m\u001b[38;5;241;43m10000\u001b[39;49m\u001b[43m,\u001b[49m\u001b[43m \u001b[49m\u001b[43mgt_idx\u001b[49m\u001b[38;5;241;43m=\u001b[39;49m\u001b[43mi\u001b[49m\u001b[43m,\u001b[49m\u001b[43m \u001b[49m\u001b[43mplot_train\u001b[49m\u001b[38;5;241;43m=\u001b[39;49m\u001b[43mplot_train\u001b[49m\u001b[43m,\u001b[49m\u001b[43m \u001b[49m\u001b[43mprint_stats\u001b[49m\u001b[38;5;241;43m=\u001b[39;49m\u001b[43mprint_stats\u001b[49m\u001b[43m)\u001b[49m\n\u001b[1;32m    168\u001b[0m     test_scores_arr \u001b[38;5;241m=\u001b[39m np\u001b[38;5;241m.\u001b[39marray([score\u001b[38;5;241m.\u001b[39mitem() \u001b[38;5;28;01mfor\u001b[39;00m score \u001b[38;5;129;01min\u001b[39;00m test_scores])\n\u001b[1;32m    169\u001b[0m     scores_array[:, i] \u001b[38;5;241m=\u001b[39m test_scores_arr\n",
      "File \u001b[0;32m~/Documents/Research/SSL/matrixssl-inductive/utils/evaluations.py:138\u001b[0m, in \u001b[0;36mevaluate_normal_downstream\u001b[0;34m(dirs, n_val, n_test, gt_idx, plot_train, print_stats)\u001b[0m\n\u001b[1;32m    136\u001b[0m \u001b[38;5;28;01mif\u001b[39;00m print_stats:\n\u001b[1;32m    137\u001b[0m     \u001b[38;5;28mprint\u001b[39m(\u001b[38;5;124mf\u001b[39m\u001b[38;5;124m\"\u001b[39m\u001b[38;5;124mRun \u001b[39m\u001b[38;5;132;01m{\u001b[39;00midx\u001b[38;5;241m+\u001b[39m\u001b[38;5;241m1\u001b[39m\u001b[38;5;132;01m}\u001b[39;00m\u001b[38;5;124m label feature: \u001b[39m\u001b[38;5;132;01m{\u001b[39;00mgt_vecs[gt_idx]\u001b[38;5;132;01m}\u001b[39;00m\u001b[38;5;124m\"\u001b[39m)\n\u001b[0;32m--> 138\u001b[0m weights \u001b[38;5;241m=\u001b[39m \u001b[43mrun_dict\u001b[49m\u001b[43m[\u001b[49m\u001b[38;5;124;43m'\u001b[39;49m\u001b[38;5;124;43mmodel_weights\u001b[39;49m\u001b[38;5;124;43m'\u001b[39;49m\u001b[43m]\u001b[49m\u001b[43m[\u001b[49m\u001b[38;5;124;43m'\u001b[39;49m\u001b[38;5;124;43mweight\u001b[39;49m\u001b[38;5;124;43m'\u001b[39;49m\u001b[43m]\u001b[49m\n\u001b[1;32m    139\u001b[0m \u001b[38;5;66;03m# Print weights corresponding to the labeling feature that have been learnt (to see if they are similar/well learnt)\u001b[39;00m\n\u001b[1;32m    140\u001b[0m \u001b[38;5;66;03m# print(f\"Run {idx+1} feature weights: {weights[gt_idx, gt_idx*d:(gt_idx+1)*d]}\")\u001b[39;00m\n\u001b[1;32m    141\u001b[0m val_data \u001b[38;5;241m=\u001b[39m std_mvn\u001b[38;5;241m.\u001b[39msample((n_val,))\n",
      "\u001b[0;31mKeyError\u001b[0m: 'weight'"
     ]
    }
   ],
   "source": [
    "dirs = [\n",
    "    \"./outputs/normal/relu/mce_runs/mssla_relu_sgd_emb_dim=5_lr=0.0003_sched=step_loss_type=mce_run1\",\n",
    "    \"./outputs/normal/relu/mce_runs/mssla_relu_sgd_emb_dim=5_lr=0.0003_sched=step_loss_type=mce_run2\",\n",
    "    \"./outputs/normal/relu/mce_runs/mssla_relu_sgd_emb_dim=5_lr=0.0003_sched=step_loss_type=mce_run3\",\n",
    "]\n",
    "score_arr = get_feature_downstream_scores(dirs)\n",
    "clear_output()\n",
    "show_weights(dirs, plot_weights=True, subtitle=True, title=True)\n",
    "score_arr"
   ]
  }
 ],
 "metadata": {
  "kernelspec": {
   "display_name": "env_pytorch",
   "language": "python",
   "name": "python3"
  },
  "language_info": {
   "codemirror_mode": {
    "name": "ipython",
    "version": 3
   },
   "file_extension": ".py",
   "mimetype": "text/x-python",
   "name": "python",
   "nbconvert_exporter": "python",
   "pygments_lexer": "ipython3",
   "version": "3.9.12"
  }
 },
 "nbformat": 4,
 "nbformat_minor": 2
}
