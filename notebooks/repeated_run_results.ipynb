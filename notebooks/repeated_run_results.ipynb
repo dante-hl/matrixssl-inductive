{
 "cells": [
  {
   "cell_type": "code",
   "execution_count": null,
   "metadata": {},
   "outputs": [],
   "source": [
    "import os\n",
    "import numpy as np\n",
    "\n",
    "os.chdir('..')\n",
    "\n",
    "import torch\n",
    "\n"
   ]
  },
  {
   "cell_type": "code",
   "execution_count": null,
   "metadata": {},
   "outputs": [],
   "source": [
    "def plot_results(start_idx, end_idx, to_plot, prefix, title, plot_all=False):\n",
    "    dicts = []\n",
    "    for i in range(start_idx, end_idx+1):\n",
    "        dictionary = torch.load(f'./outputs/{prefix}_run{i}')\n",
    "        dicts.append(dictionary)\n",
    "\n",
    "    if to_plot == 'val':\n",
    "        values = [dictionary['val_accs'] for dictionary in dicts]\n",
    "    elif to_plot == 'train':\n",
    "        values = [dictionary['train_losses'] for dictionary in dicts]\n",
    "\n",
    "    values_np = np.asarray(values)\n",
    "    avgs = values_np.mean(axis=0)\n",
    "    stds = values_np.std(axis=0)\n",
    "\n",
    "    x = [i for i in range(len(avgs))]\n",
    "    plt.figure()\n",
    "    plt.plot(x, avgs, 'k')\n",
    "    plt.fill_between(x, avgs-stds, avgs+stds,\n",
    "        alpha=0.2, facecolor='#089FFF',\n",
    "        linewidth=4, antialiased=True)\n",
    "    if to_plot == 'val':\n",
    "        plt.ylim(0.5, 1)\n",
    "        plt.ylabel('Classification Accuracy')\n",
    "        plt.xlabel('Epochs')\n",
    "    elif to_plot == 'train':\n",
    "        plt.ylabel('Train Loss')\n",
    "        plt.xlabel('Train Steps')\n",
    "    \n",
    "    plt.title(title)\n",
    "    \n",
    "    if plot_all:\n",
    "        plt.plot(values_np.T)\n",
    "    plt.show()\n"
   ]
  },
  {
   "cell_type": "markdown",
   "metadata": {},
   "source": []
  }
 ],
 "metadata": {
  "language_info": {
   "name": "python"
  },
  "orig_nbformat": 4
 },
 "nbformat": 4,
 "nbformat_minor": 2
}
